{
 "cells": [
  {
   "cell_type": "code",
   "execution_count": 1,
   "id": "139cefe6-3fc0-4078-b3a1-c0b768a71e51",
   "metadata": {},
   "outputs": [],
   "source": [
    "import numpy as np"
   ]
  },
  {
   "cell_type": "code",
   "execution_count": 25,
   "id": "d8c12ec9-49a3-46c0-8db2-b4cde051a515",
   "metadata": {},
   "outputs": [],
   "source": [
    "def split_set(D):\n",
    "    X_D = []\n",
    "    y = []\n",
    "    for elem in D:\n",
    "        X_D.append([1] + list(elem[0]))\n",
    "        y.append(elem[1])\n",
    "    return np.array(X_D), np.array(y)"
   ]
  },
  {
   "cell_type": "code",
   "execution_count": 51,
   "id": "f8ae61d0-c928-41ba-a1bc-e84ea2f9d45d",
   "metadata": {},
   "outputs": [],
   "source": [
    "def calc_loss(X, y, Theta, l=0):\n",
    "    return np.linalg.norm(np.matmul(X, Theta)-y)**2 + l * np.sum(Theta[1:]**2)"
   ]
  },
  {
   "cell_type": "code",
   "execution_count": 52,
   "id": "0072e289-1dde-4b90-a603-8c9f357bf3dd",
   "metadata": {},
   "outputs": [],
   "source": [
    "def calc_bestimmtheitsmass(loss, y):\n",
    "    y_mean = np.mean(y)\n",
    "    return 1 - (loss / np.sum((y - y_mean)**2))"
   ]
  },
  {
   "cell_type": "code",
   "execution_count": 56,
   "id": "dea07234-ce98-42ed-8949-211135be880a",
   "metadata": {},
   "outputs": [],
   "source": [
    "D_raw = {((182,23),172),((180,12),168),((162,26),153)}\n",
    "Theta_raw = (-15,1,0.4)\n",
    "l = 0.1\n",
    "X_D, y = split_set(D_raw)\n",
    "Theta = np.array(Theta_raw)"
   ]
  },
  {
   "cell_type": "code",
   "execution_count": 57,
   "id": "feb20be4-cccf-47c2-b5fe-16ee641477e1",
   "metadata": {},
   "outputs": [
    {
     "data": {
      "text/plain": [
       "40.355999999999995"
      ]
     },
     "execution_count": 57,
     "metadata": {},
     "output_type": "execute_result"
    }
   ],
   "source": [
    "loss = calc_loss(X_D, y, Theta, l)\n",
    "loss"
   ]
  },
  {
   "cell_type": "code",
   "execution_count": 58,
   "id": "ce792cad-ee96-4a3a-bbd3-c7219c4f1f4a",
   "metadata": {},
   "outputs": [
    {
     "data": {
      "text/plain": [
       "0.798890365448505"
      ]
     },
     "execution_count": 58,
     "metadata": {},
     "output_type": "execute_result"
    }
   ],
   "source": [
    "calc_bestimmtheitsmass(loss, y)"
   ]
  },
  {
   "cell_type": "code",
   "execution_count": null,
   "id": "74022b6e-d065-416c-8187-6c406f5c2e1e",
   "metadata": {},
   "outputs": [],
   "source": []
  }
 ],
 "metadata": {
  "kernelspec": {
   "display_name": "Python 3 (ipykernel)",
   "language": "python",
   "name": "python3"
  },
  "language_info": {
   "codemirror_mode": {
    "name": "ipython",
    "version": 3
   },
   "file_extension": ".py",
   "mimetype": "text/x-python",
   "name": "python",
   "nbconvert_exporter": "python",
   "pygments_lexer": "ipython3",
   "version": "3.12.4"
  }
 },
 "nbformat": 4,
 "nbformat_minor": 5
}
