{
 "cells": [
  {
   "cell_type": "code",
   "execution_count": 33,
   "id": "b51afbb9-9c38-47fc-8edb-917d54324d19",
   "metadata": {},
   "outputs": [],
   "source": [
    "from sklearn import linear_model\n",
    "import numpy as np\n",
    "\n",
    "reg = linear_model.LogisticRegression(max_iter=1000)\n",
    "np.set_printoptions(suppress=True)"
   ]
  },
  {
   "cell_type": "code",
   "execution_count": 34,
   "id": "d0553811-b697-4886-bd78-19f7a0b1ea48",
   "metadata": {},
   "outputs": [],
   "source": [
    "def split_set(D):\n",
    "    X_D = []\n",
    "    y = []\n",
    "    for elem in D:\n",
    "        X_D.append([1] + list(elem[0]))\n",
    "        y.append(elem[1])\n",
    "    return np.array(X_D), np.array(y)"
   ]
  },
  {
   "cell_type": "markdown",
   "id": "4f929464-9850-440c-baa1-ca27939184bb",
   "metadata": {},
   "source": [
    "## Frage 1"
   ]
  },
  {
   "cell_type": "code",
   "execution_count": 35,
   "id": "90ce6998-5fd9-41e7-b583-2a31126d1335",
   "metadata": {},
   "outputs": [
    {
     "name": "stdout",
     "output_type": "stream",
     "text": [
      "[1.75850742]\n",
      "[[ 0.00000455 -0.586275    0.45263316]]\n"
     ]
    }
   ],
   "source": [
    "𝐷={((16,22),1),((43,70),1),((135,50),0),((42,46),0),((60,59),0),((105,140),1)}\n",
    "X, y = split_set(D)\n",
    "reg.fit(X, y)\n",
    "print(reg.intercept_)\n",
    "print(reg.coef_)"
   ]
  },
  {
   "cell_type": "markdown",
   "id": "4fd7635b-7724-433f-a641-31997ebffb83",
   "metadata": {},
   "source": [
    "## Frage 2"
   ]
  },
  {
   "cell_type": "code",
   "execution_count": 42,
   "id": "13899a20-6fbb-4970-82ca-78cd9b9a0190",
   "metadata": {},
   "outputs": [
    {
     "name": "stdout",
     "output_type": "stream",
     "text": [
      "[-11,265]\n",
      "[ 0,064 -0,202  0,386 -0,635  0,33 ]\n"
     ]
    }
   ],
   "source": [
    "from sklearn.preprocessing import PolynomialFeatures\n",
    "\n",
    "𝐷={((12,11),0),((13,14),1),((11,8),1),((6,2),0),((12,10),0),((7,11),0)}\n",
    "X, y = split_set(D)\n",
    "poly = PolynomialFeatures(degree=2)\n",
    "X_poly = poly.fit_transform(X[:,1:])\n",
    "reg.fit(X_poly, y)\n",
    "print(str(np.round(reg.intercept_, 3)).replace(\".\", \",\"))\n",
    "print(str(np.round(reg.coef_[0][1:], 3)).replace(\".\", \",\"))"
   ]
  },
  {
   "cell_type": "markdown",
   "id": "81136f5e-22f2-4b09-a529-d15de47cd53f",
   "metadata": {},
   "source": [
    "## Frage 3"
   ]
  },
  {
   "cell_type": "code",
   "execution_count": 75,
   "id": "7e70717e-65ba-4cfe-b975-712175ca3640",
   "metadata": {},
   "outputs": [
    {
     "name": "stdout",
     "output_type": "stream",
     "text": [
      "Class 1\n",
      "12,041\n",
      "[-0,62  -0,188]\n",
      "Class 2\n",
      "-4,729\n",
      "[0,26  0,083]\n",
      "Class 3\n",
      "-7,311\n",
      "[0,36  0,105]\n"
     ]
    },
    {
     "data": {
      "text/plain": [
       "<Figure size 640x480 with 0 Axes>"
      ]
     },
     "metadata": {},
     "output_type": "display_data"
    },
    {
     "data": {
      "image/png": "[encoded data removed]",
      "text/plain": [
       "<Figure size 640x480 with 1 Axes>"
      ]
     },
     "metadata": {},
     "output_type": "display_data"
    }
   ],
   "source": [
    "from sklearn.inspection import DecisionBoundaryDisplay\n",
    "import matplotlib.pyplot as plt\n",
    "D = {((1,80),2),((20,3),2),((5,0),1),((13,12),1),((60,30),3),((10,40),3)}\n",
    "X, y = split_set(D)\n",
    "clf = linear_model.LogisticRegression(multi_class='ovr').fit(X[:,1:],y)\n",
    "plt.figure()\n",
    "\n",
    "DecisionBoundaryDisplay.from_estimator(clf,X[:,1:],plot_method=\"pcolormesh\")\n",
    "for i in range(3):\n",
    "    print(\"Class \" + str(i+1))\n",
    "    print(str(np.round(reg.intercept_[i], 3)).replace(\".\", \",\"))\n",
    "    print(str(np.round(reg.coef_[i][1:], 3)).replace(\".\", \",\"))"
   ]
  },
  {
   "cell_type": "markdown",
   "id": "10e8c9c1-12d5-427c-81d8-c3953fa35261",
   "metadata": {},
   "source": [
    "## Frage 4"
   ]
  },
  {
   "cell_type": "code",
   "execution_count": 167,
   "id": "06eb5834-5ba5-41ae-b5c8-0373b5a8ba7b",
   "metadata": {},
   "outputs": [
    {
     "name": "stdout",
     "output_type": "stream",
     "text": [
      "(((0.42, 0.26, 0.176, 0.109, 0.068),1), ((0.39, 0.38, 0.152, 0.148, 0.144),3), ((0.35, 0.4, 0.122, 0.14, 0.16),3), ((0.3, 0.3, 0.09, 0.09, 0.09),1), ((0.33, 0.2, 0.109, 0.066, 0.04),2), ((0.24, 0.26, 0.058, 0.062, 0.068),4))\n",
      "Klasse: 1\n",
      "D_1=\n",
      "Theta_1=(0.344,0.043,-0.039,0.03,-0.006,-0.032)\n",
      "\n",
      "Klasse: 2\n",
      "D_2=\n",
      "Theta_2=(-0.304,-0.008,-0.099,-0.009,-0.036,-0.054)\n",
      "\n",
      "Klasse: 3\n",
      "D_3=\n",
      "Theta_3=(0.248,0.062,0.177,0.038,0.082,0.113)\n",
      "\n",
      "Klasse: 4\n",
      "D_4=\n",
      "Theta_4=(-0.288,-0.097,-0.039,-0.06,-0.04,-0.027)\n",
      "\n"
     ]
    }
   ],
   "source": [
    "D={((0.3,0.3),1),((0.24,0.26),4),((0.33,0.2),2),((0.35,0.4),3),((0.39,0.38),3),((0.42,0.26),1)}\n",
    "X, y = split_set(D)\n",
    "\n",
    "X_poly = poly.fit_transform(X[:,1:])\n",
    "reg = linear_model.LogisticRegression(max_iter=1000)\n",
    "clf = reg.fit(X_poly, y)\n",
    "\n",
    "X_poly = np.round(X_poly[:,1:],3)\n",
    "X_poly_print = [\"(\" + str(list(x)) + \",\" + str(y[i]) + \")\" for i, x in enumerate(X_poly)]\n",
    "print(str(X_poly_print).replace(\"'\",\"\").replace(\"[\", \"(\").replace(\"]\", \")\"))\n",
    "\n",
    "for i, c in enumerate(clf.classes_):\n",
    "    print(\"Klasse: \" + str(c))\n",
    "    print(\"D_\" + str(c) + \"=\" )\n",
    "    print(\"Theta_\" + str(c) + \"=(\" + str(np.round(reg.intercept_[i],3)) + \",\" + str(list(np.round(reg.coef_[i][1:],3))).replace(\"[\",\"\").replace(\" \", \"\").replace(\"]\", \")\"))\n",
    "    print()\n"
   ]
  },
  {
   "cell_type": "code",
   "execution_count": null,
   "id": "4f4695b2-24b2-4cb4-9a23-b144cfc469ec",
   "metadata": {},
   "outputs": [],
   "source": []
  }
 ],
 "metadata": {
  "kernelspec": {
   "display_name": "Python 3 (ipykernel)",
   "language": "python",
   "name": "python3"
  },
  "language_info": {
   "codemirror_mode": {
    "name": "ipython",
    "version": 3
   },
   "file_extension": ".py",
   "mimetype": "text/x-python",
   "name": "python",
   "nbconvert_exporter": "python",
   "pygments_lexer": "ipython3",
   "version": "3.12.4"
  }
 },
 "nbformat": 4,
 "nbformat_minor": 5
}
