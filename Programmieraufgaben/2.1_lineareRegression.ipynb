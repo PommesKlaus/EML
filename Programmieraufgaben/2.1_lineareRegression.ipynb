{
 "cells": [
  {
   "cell_type": "code",
   "execution_count": 1,
   "id": "b51afbb9-9c38-47fc-8edb-917d54324d19",
   "metadata": {},
   "outputs": [],
   "source": [
    "from sklearn import linear_model\n",
    "import numpy as np\n",
    "\n",
    "reg = linear_model.LinearRegression()"
   ]
  },
  {
   "cell_type": "code",
   "execution_count": 2,
   "id": "d0553811-b697-4886-bd78-19f7a0b1ea48",
   "metadata": {},
   "outputs": [],
   "source": [
    "def split_set(D):\n",
    "    X_D = []\n",
    "    y = []\n",
    "    for elem in D:\n",
    "        X_D.append([1] + list(elem[0]))\n",
    "        y.append(elem[1])\n",
    "    return np.array(X_D), np.array(y)"
   ]
  },
  {
   "cell_type": "markdown",
   "id": "4f929464-9850-440c-baa1-ca27939184bb",
   "metadata": {},
   "source": [
    "## Frage 1"
   ]
  },
  {
   "cell_type": "code",
   "execution_count": 7,
   "id": "90ce6998-5fd9-41e7-b583-2a31126d1335",
   "metadata": {},
   "outputs": [
    {
     "name": "stdout",
     "output_type": "stream",
     "text": [
      "-11,918\n",
      "[0,445 0,049]\n"
     ]
    }
   ],
   "source": [
    "D={((23,36),0.1),((23,34),0),((26,29),1.2),((21,40),-0.5),((20,33),-1.5),((25,35),0.7)}\n",
    "X, y = split_set(D)\n",
    "reg.fit(X, y)\n",
    "print(str(np.round(reg.intercept_, 3)).replace(\".\", \",\"))\n",
    "print(str(np.round(reg.coef_[1:], 3)).replace(\".\", \",\"))"
   ]
  },
  {
   "cell_type": "markdown",
   "id": "c2beb198-08f7-43bf-b1ba-ae2ec4c1633b",
   "metadata": {},
   "source": []
  },
  {
   "cell_type": "code",
   "execution_count": 8,
   "id": "13899a20-6fbb-4970-82ca-78cd9b9a0190",
   "metadata": {},
   "outputs": [
    {
     "name": "stdout",
     "output_type": "stream",
     "text": [
      "-1588,241\n",
      "[1488,408  353,983 -180,842 -266,054   -3,934]\n"
     ]
    }
   ],
   "source": [
    "from sklearn.preprocessing import PolynomialFeatures\n",
    "\n",
    "D={((0.5,4.4),6.8),((1,4.0),8.1),((1.5,3.8),9.3),((1.6,3.7),11.1),((1.2,5.2),11.6),((0.7,4.3),13.6)}\n",
    "X, y = split_set(D)\n",
    "\n",
    "poly = PolynomialFeatures(degree=2)\n",
    "X_poly = poly.fit_transform(X[:,1:])\n",
    "reg.fit(X_poly, y)\n",
    "print(str(np.round(reg.intercept_, 3)).replace(\".\", \",\"))\n",
    "print(str(np.round(reg.coef_[1:], 3)).replace(\".\", \",\"))"
   ]
  },
  {
   "cell_type": "markdown",
   "id": "81136f5e-22f2-4b09-a529-d15de47cd53f",
   "metadata": {},
   "source": [
    "## Frage 3"
   ]
  },
  {
   "cell_type": "code",
   "execution_count": 9,
   "id": "7e70717e-65ba-4cfe-b975-712175ca3640",
   "metadata": {},
   "outputs": [
    {
     "name": "stdout",
     "output_type": "stream",
     "text": [
      "-0,278\n",
      "[0,347 0,361]\n"
     ]
    }
   ],
   "source": [
    "D={((12,7),5.5),((10,8),6),((10,7.5),7),((15,5),6.5),((16,9),7.5),((18,8),10)}\n",
    "X, y = split_set(D)\n",
    "reg = linear_model.Ridge(alpha=0.1)\n",
    "reg.fit(X, y)\n",
    "print(str(np.round(reg.intercept_, 3)).replace(\".\", \",\"))\n",
    "print(str(np.round(reg.coef_[1:], 3)).replace(\".\", \",\"))"
   ]
  },
  {
   "cell_type": "markdown",
   "id": "10e8c9c1-12d5-427c-81d8-c3953fa35261",
   "metadata": {},
   "source": [
    "## Frage 4"
   ]
  },
  {
   "cell_type": "code",
   "execution_count": 10,
   "id": "06eb5834-5ba5-41ae-b5c8-0373b5a8ba7b",
   "metadata": {},
   "outputs": [
    {
     "name": "stdout",
     "output_type": "stream",
     "text": [
      "-0,9\n",
      "[-0,062  0,227 -0,002  0,01  -0,011]\n"
     ]
    }
   ],
   "source": [
    "D={((17.5,20),0.85),((21.5,23),0.9),((19,19),1.1),((20,18),1),((22.5,16),1.1),((20.5,15),0.8)}\n",
    "X, y = split_set(D)\n",
    "\n",
    "X_poly = poly.fit_transform(X[:,1:])\n",
    "reg = linear_model.Ridge(alpha=0.2)\n",
    "reg.fit(X_poly, y)\n",
    "print(str(np.round(reg.intercept_, 3)).replace(\".\", \",\"))\n",
    "print(str(np.round(reg.coef_[1:], 3)).replace(\".\", \",\"))"
   ]
  },
  {
   "cell_type": "code",
   "execution_count": null,
   "id": "0acd4743-9551-4a9a-9946-82fd8e6d9900",
   "metadata": {},
   "outputs": [],
   "source": []
  }
 ],
 "metadata": {
  "kernelspec": {
   "display_name": "Python 3 (ipykernel)",
   "language": "python",
   "name": "python3"
  },
  "language_info": {
   "codemirror_mode": {
    "name": "ipython",
    "version": 3
   },
   "file_extension": ".py",
   "mimetype": "text/x-python",
   "name": "python",
   "nbconvert_exporter": "python",
   "pygments_lexer": "ipython3",
   "version": "3.12.4"
  }
 },
 "nbformat": 4,
 "nbformat_minor": 5
}
